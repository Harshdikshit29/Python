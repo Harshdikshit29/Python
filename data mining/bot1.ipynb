{
 "cells": [
  {
   "cell_type": "code",
   "execution_count": 2,
   "metadata": {},
   "outputs": [],
   "source": [
    "import requests\n",
    "from bs4 import BeautifulSoup\n",
    "import os\n",
    "import pandas as pd\n",
    "import datetime\n",
    "\n",
    "def get_soup(url):\n",
    "    r = requests.get(url)\n",
    "    if r.status_code == 200:\n",
    "        return BeautifulSoup(r.text, 'html5lib')\n",
    "    return None"
   ]
  },
  {
   "cell_type": "code",
   "execution_count": 3,
   "metadata": {},
   "outputs": [],
   "source": [
    "url ='https://www.flipkart.com/search?q=tv&otracker=search&otracker1=search&marketplace=FLIPKART&as-show=on&as=off'\n",
    "soup = get_soup(url)"
   ]
  },
  {
   "cell_type": "code",
   "execution_count": 4,
   "metadata": {},
   "outputs": [
    {
     "name": "stdout",
     "output_type": "stream",
     "text": [
      "target found\n"
     ]
    }
   ],
   "source": [
    "target = soup.find('div', class_ = '_1YokD2 _3Mn1Gg')\n",
    "if target is not None:\n",
    "    print('target found')"
   ]
  },
  {
   "cell_type": "code",
   "execution_count": 5,
   "metadata": {},
   "outputs": [
    {
     "name": "stdout",
     "output_type": "stream",
     "text": [
      "Found 26 items\n"
     ]
    }
   ],
   "source": [
    "items = target.find_all('div', class_ = '_1AtVbE col-12-12')\n",
    "print(f'Found {len(items)} items')"
   ]
  },
  {
   "cell_type": "code",
   "execution_count": 6,
   "metadata": {},
   "outputs": [
    {
     "name": "stdout",
     "output_type": "stream",
     "text": [
      "Adsun 60 cm (24 inch) HD Ready LED TV\n",
      "₹5,889\n",
      "3.8\n",
      "12,848 Ratings & 1,832 Reviews\n",
      "\n",
      "Adsun 80 cm (32 inch) HD Ready LED Smart Android Based TV\n",
      "₹8,264\n",
      "3.8\n",
      "12,848 Ratings & 1,832 Reviews\n",
      "\n",
      "SAMSUNG 80 cm (32 Inch) HD Ready LED Smart Tizen TV with 2022 Model\n",
      "₹13,490\n",
      "4.3\n",
      "69,313 Ratings & 6,148 Reviews\n",
      "\n",
      "Infinix Y1 80 cm (32 inch) HD Ready LED Smart Linux TV\n",
      "₹8,999\n",
      "4.2\n",
      "8,103 Ratings & 1,215 Reviews\n",
      "\n",
      "Mi 5A 80 cm (32 inch) HD Ready LED Smart Android TV with Dolby Audio (2022 Model)\n",
      "₹13,999\n",
      "4.4\n",
      "3,22,466 Ratings & 30,668 Reviews\n",
      "\n",
      "LG 80 cm (32 inch) HD Ready LED Smart WebOS TV\n",
      "₹13,990\n",
      "4.4\n",
      "47,951 Ratings & 4,298 Reviews\n",
      "\n",
      "OnePlus Y1S 80 cm (32 inch) HD Ready LED Smart Android TV with Android 11 and Bezel-Less Frame\n",
      "₹15,999\n",
      "4.3\n",
      "1,32,922 Ratings & 12,267 Reviews\n",
      "\n",
      "Adsun Smart Series 60 cm (24 inch) HD Ready LED Smart Android Based TV\n",
      "₹6,649\n",
      "3.8\n",
      "12,848 Ratings & 1,832 Reviews\n",
      "\n",
      "OnePlus Y1S 108 cm (43 inch) Full HD LED Smart Android TV with Android 11 and Bezel-Less Frame\n",
      "₹24,999\n",
      "4.3\n",
      "1,32,922 Ratings & 12,267 Reviews\n",
      "\n",
      "MarQ by Flipkart 60 cm (24 inch) HD Ready LED TV\n",
      "₹5,499\n",
      "4.2\n",
      "1,149 Ratings & 133 Reviews\n",
      "\n",
      "BeethoSOL 109 cm (43 inch) Full HD LED Smart Android TV\n",
      "₹15,999\n",
      "3.9\n",
      "193 Ratings & 23 Reviews\n",
      "\n",
      "Dyanora 60 cm (24 inch) HD Ready LED TV with Noise Reduction, Cinema Zoom, Powerful Audio Box Speakers\n",
      "₹5,699\n",
      "4.1\n",
      "3,462 Ratings & 453 Reviews\n",
      "\n",
      "SAMSUNG Crystal 4K Pro 108 cm (43 inch) Ultra HD (4K) LED Smart Tizen TV with Voice Search\n",
      "₹31,990\n",
      "4.4\n",
      "13,906 Ratings & 1,497 Reviews\n",
      "\n",
      "realme NEO 80 cm (32 inch) HD Ready LED Smart Linux TV\n",
      "₹11,999\n",
      "4.3\n",
      "33,494 Ratings & 2,936 Reviews\n",
      "\n",
      "OnePlus Y1 100 cm (40 inch) Full HD LED Smart Android TV with Dolby Audio\n",
      "₹21,999\n",
      "4.3\n",
      "1,32,922 Ratings & 12,267 Reviews\n",
      "\n",
      "SAMSUNG Crystal 4K 108 cm (43 inch) Ultra HD (4K) LED Smart Tizen TV\n",
      "₹30,990\n",
      "4.3\n",
      "11,068 Ratings & 1,127 Reviews\n",
      "\n",
      "Dyanora 100 cm (40 inch) HD Ready LED Smart Android Based TV with Noise Reduction,Android 9.0,Google V...\n",
      "₹13,899\n",
      "4.1\n",
      "3,462 Ratings & 453 Reviews\n",
      "\n",
      "Dyanora 108 cm (43 inch) Full HD LED Smart Android Based TV with Noise Reduction, Android 9.0, Google ...\n",
      "₹16,199\n",
      "4.1\n",
      "3,462 Ratings & 453 Reviews\n",
      "\n",
      "Mi 5A 100 cm (40 inch) Full HD LED Smart Android TV with Dolby Audio (2022 Model)\n",
      "₹21,999\n",
      "4.4\n",
      "3,22,466 Ratings & 30,668 Reviews\n",
      "\n",
      "Mi 5A 108 cm (43 inch) Full HD LED Smart Android TV with Dolby Audio (2022 Model)\n",
      "₹24,999\n",
      "4.4\n",
      "3,22,466 Ratings & 30,668 Reviews\n",
      "\n",
      "Dyanora Sigma 80 cm (32 inch) HD Ready LED Smart Linux TV with 30 Watt Box Speakers & Bezel-Less Desig...\n",
      "₹8,499\n",
      "4.2\n",
      "43 Ratings & 6 Reviews\n",
      "\n",
      "XElectron Android 11 80 cm (32 inch) HD Ready LED Smart Android TV\n",
      "₹8,990\n",
      "\n",
      "TCL S5200 108 cm (43 inch) Full HD LED Smart Android TV\n",
      "₹19,990\n",
      "4.3\n",
      "70 Ratings & 13 Reviews\n",
      "\n",
      "realme 100.3 cm (40 inch) Full HD LED Smart Android TV\n",
      "₹19,999\n",
      "4.3\n",
      "2,32,545 Ratings & 26,439 Reviews\n",
      "\n",
      "\n",
      "\n"
     ]
    }
   ],
   "source": [
    "for item in items:\n",
    "    title = item.find('div', class_='_4rR01T')\n",
    "    sell_price = item.find('div', class_='_30jeq3 _1_WHN1')\n",
    "    orig_price = item.find('div', class_='_3I9_wc_27UcVY')\n",
    "    rating = item.find('div', class_='_3LWZlK')\n",
    "    num_ratings = item.find('span', class_='_2_R_DZ')\n",
    "    if title:\n",
    "        print(title.text.strip())\n",
    "    if sell_price:\n",
    "        print(sell_price.text.strip())\n",
    "    if orig_price:\n",
    "        print(orig_price.text.strip())\n",
    "    if rating:\n",
    "        print(rating.text.strip())\n",
    "    if num_ratings:\n",
    "        print(num_ratings.text.strip())\n",
    "    print()"
   ]
  },
  {
   "cell_type": "code",
   "execution_count": null,
   "metadata": {},
   "outputs": [],
   "source": []
  }
 ],
 "metadata": {
  "kernelspec": {
   "display_name": "Python 3.9.12 ('base')",
   "language": "python",
   "name": "python3"
  },
  "language_info": {
   "codemirror_mode": {
    "name": "ipython",
    "version": 3
   },
   "file_extension": ".py",
   "mimetype": "text/x-python",
   "name": "python",
   "nbconvert_exporter": "python",
   "pygments_lexer": "ipython3",
   "version": "3.9.12"
  },
  "orig_nbformat": 4,
  "vscode": {
   "interpreter": {
    "hash": "d352f530d35ba9a8cbd74dc54ae14fe97a35856bed16a2f3b615ca61b68e7fcb"
   }
  }
 },
 "nbformat": 4,
 "nbformat_minor": 2
}
